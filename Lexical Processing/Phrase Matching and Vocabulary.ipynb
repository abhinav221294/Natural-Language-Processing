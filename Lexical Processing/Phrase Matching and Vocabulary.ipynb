{
 "cells": [
  {
   "cell_type": "code",
   "execution_count": 103,
   "id": "05e0b56e",
   "metadata": {},
   "outputs": [],
   "source": [
    "import spacy"
   ]
  },
  {
   "cell_type": "code",
   "execution_count": 104,
   "id": "e6d003f1",
   "metadata": {},
   "outputs": [],
   "source": [
    "nlp = spacy.load('en_core_web_sm')"
   ]
  },
  {
   "cell_type": "code",
   "execution_count": 105,
   "id": "d6a30224",
   "metadata": {},
   "outputs": [],
   "source": [
    "from spacy.matcher import Matcher\n",
    "matcher = Matcher(nlp.vocab)"
   ]
  },
  {
   "cell_type": "code",
   "execution_count": 106,
   "id": "dea9b23b",
   "metadata": {},
   "outputs": [],
   "source": [
    "pattern1 = [{'LOWER':'solarpower'}]\n",
    "pattern2 = [{'LOWER':'solar'},{'IS_PUNCT':True},{'LOWER':'power'}]\n",
    "pattern3 = [{'LOWER':'solar'},{'LOWER':'power'}]"
   ]
  },
  {
   "cell_type": "raw",
   "id": "bb366410",
   "metadata": {},
   "source": [
    "matcher.add('SolarPower',None,pattern1,pattern2,pattern3)"
   ]
  },
  {
   "cell_type": "raw",
   "id": "2f0f167a",
   "metadata": {},
   "source": [
    "pattern1 = [{'LOWER':'solarpower'},{'LOWER':'solar'},{'IS_PUNCT':True},{'LOWER':'power'},\n",
    "            {'LOWER':'solar'},{'LOWER':'power'}]"
   ]
  },
  {
   "cell_type": "code",
   "execution_count": 107,
   "id": "e91cc305",
   "metadata": {},
   "outputs": [],
   "source": [
    "matcher.add('SolarPower',[pattern1,pattern2,pattern3])"
   ]
  },
  {
   "cell_type": "code",
   "execution_count": 108,
   "id": "eb01b2d4",
   "metadata": {},
   "outputs": [],
   "source": [
    "doc = nlp(u'The Solar Power industry continues to grow a solarpower increases. Solar-power is amazing.')"
   ]
  },
  {
   "cell_type": "code",
   "execution_count": 109,
   "id": "0df4326b",
   "metadata": {},
   "outputs": [],
   "source": [
    "found_matches = matcher(doc)"
   ]
  },
  {
   "cell_type": "code",
   "execution_count": 110,
   "id": "11122a9f",
   "metadata": {},
   "outputs": [
    {
     "name": "stdout",
     "output_type": "stream",
     "text": [
      "[(8656102463236116519, 1, 3), (8656102463236116519, 8, 9), (8656102463236116519, 11, 14)]\n"
     ]
    }
   ],
   "source": [
    "print(found_matches)"
   ]
  },
  {
   "cell_type": "code",
   "execution_count": 111,
   "id": "f595b1b6",
   "metadata": {},
   "outputs": [
    {
     "name": "stdout",
     "output_type": "stream",
     "text": [
      "8656102463236116519 SolarPower 1 3 Solar Power\n",
      "8656102463236116519 SolarPower 8 9 solarpower\n",
      "8656102463236116519 SolarPower 11 14 Solar-power\n"
     ]
    }
   ],
   "source": [
    "for match_id,start,end in found_matches:\n",
    "    string_id = nlp.vocab.strings[match_id]\n",
    "    span = doc[start:end]\n",
    "    print(match_id,string_id,start,end,span.text)"
   ]
  },
  {
   "cell_type": "code",
   "execution_count": 112,
   "id": "9d24b9b5",
   "metadata": {},
   "outputs": [],
   "source": [
    "matcher.remove('SolarPower')"
   ]
  },
  {
   "cell_type": "code",
   "execution_count": 113,
   "id": "029e04c0",
   "metadata": {},
   "outputs": [],
   "source": [
    "pattern1 = [{'LOWER':'solorpower'}]\n",
    "pattern2 = [{'LOWER':'solar'},{'IS_PUNCT':True,'OP':'*'}]"
   ]
  },
  {
   "cell_type": "code",
   "execution_count": 114,
   "id": "7e90f84c",
   "metadata": {},
   "outputs": [],
   "source": [
    "matcher.add('SolarPower',[pattern1,pattern2])"
   ]
  },
  {
   "cell_type": "code",
   "execution_count": 115,
   "id": "b29e0893",
   "metadata": {},
   "outputs": [],
   "source": [
    "doc2= nlp(u'The Solar Power industry continues to grow as demand \\\n",
    "for solarpower increases. Solar-power cars are gaining popularity.')"
   ]
  },
  {
   "cell_type": "code",
   "execution_count": 116,
   "id": "84f5bbba",
   "metadata": {},
   "outputs": [
    {
     "name": "stdout",
     "output_type": "stream",
     "text": [
      "[(8656102463236116519, 1, 2), (8656102463236116519, 13, 14), (8656102463236116519, 13, 15)]\n"
     ]
    }
   ],
   "source": [
    "found_matches = matcher(doc2)\n",
    "print(found_matches)"
   ]
  },
  {
   "cell_type": "code",
   "execution_count": 117,
   "id": "a2d5e2ef",
   "metadata": {},
   "outputs": [],
   "source": [
    "# Phrase Matching"
   ]
  },
  {
   "cell_type": "code",
   "execution_count": 118,
   "id": "a8a17a04",
   "metadata": {},
   "outputs": [],
   "source": [
    "from spacy.matcher import PhraseMatcher"
   ]
  },
  {
   "cell_type": "code",
   "execution_count": 119,
   "id": "1aa6ed93",
   "metadata": {},
   "outputs": [],
   "source": [
    "macther = PhraseMatcher(nlp.vocab)"
   ]
  },
  {
   "cell_type": "code",
   "execution_count": 120,
   "id": "e643f091",
   "metadata": {},
   "outputs": [],
   "source": [
    "with open('reaganomics.txt') as f:\n",
    "    doc3 = nlp(f.read())"
   ]
  },
  {
   "cell_type": "code",
   "execution_count": 125,
   "id": "80fcbb6b",
   "metadata": {},
   "outputs": [],
   "source": [
    "phrase_list = ['voodoo economics', 'supply-side economics', 'trickle-down economics', 'free-market economics']"
   ]
  },
  {
   "cell_type": "code",
   "execution_count": 126,
   "id": "8712575a",
   "metadata": {},
   "outputs": [],
   "source": [
    "phrase_Patterns = [nlp(text) for text in phrase_list]"
   ]
  },
  {
   "cell_type": "code",
   "execution_count": 127,
   "id": "fb381e37",
   "metadata": {},
   "outputs": [
    {
     "data": {
      "text/plain": [
       "[voodoo economics,\n",
       " supply-side economics,\n",
       " trickle-down economics,\n",
       " free-market economics]"
      ]
     },
     "execution_count": 127,
     "metadata": {},
     "output_type": "execute_result"
    }
   ],
   "source": [
    "phrase_Patterns"
   ]
  },
  {
   "cell_type": "code",
   "execution_count": 128,
   "id": "888ea7c2",
   "metadata": {},
   "outputs": [],
   "source": [
    "Patterns = [[{'LOWER':token.text} for token in doc] for doc in phrase_Patterns]"
   ]
  },
  {
   "cell_type": "code",
   "execution_count": 129,
   "id": "1d34107d",
   "metadata": {},
   "outputs": [
    {
     "data": {
      "text/plain": [
       "[[{'LOWER': 'voodoo'}, {'LOWER': 'economics'}],\n",
       " [{'LOWER': 'supply'},\n",
       "  {'LOWER': '-'},\n",
       "  {'LOWER': 'side'},\n",
       "  {'LOWER': 'economics'}],\n",
       " [{'LOWER': 'trickle'},\n",
       "  {'LOWER': '-'},\n",
       "  {'LOWER': 'down'},\n",
       "  {'LOWER': 'economics'}],\n",
       " [{'LOWER': 'free'},\n",
       "  {'LOWER': '-'},\n",
       "  {'LOWER': 'market'},\n",
       "  {'LOWER': 'economics'}]]"
      ]
     },
     "execution_count": 129,
     "metadata": {},
     "output_type": "execute_result"
    }
   ],
   "source": [
    "Patterns"
   ]
  },
  {
   "cell_type": "code",
   "execution_count": 130,
   "id": "d728fbaa",
   "metadata": {
    "scrolled": true
   },
   "outputs": [],
   "source": [
    "matcher.add('EconMatcher',Patterns)"
   ]
  },
  {
   "cell_type": "code",
   "execution_count": 131,
   "id": "1c5d089e",
   "metadata": {},
   "outputs": [],
   "source": [
    "found_matches = matcher(doc3)"
   ]
  },
  {
   "cell_type": "code",
   "execution_count": 132,
   "id": "dba53102",
   "metadata": {},
   "outputs": [
    {
     "data": {
      "text/plain": [
       "[(3680293220734633682, 41, 45),\n",
       " (3680293220734633682, 49, 53),\n",
       " (3680293220734633682, 54, 56),\n",
       " (3680293220734633682, 61, 65),\n",
       " (3680293220734633682, 673, 677),\n",
       " (3680293220734633682, 2987, 2991)]"
      ]
     },
     "execution_count": 132,
     "metadata": {},
     "output_type": "execute_result"
    }
   ],
   "source": [
    "found_matches"
   ]
  },
  {
   "cell_type": "code",
   "execution_count": 133,
   "id": "4ddce9f9",
   "metadata": {},
   "outputs": [
    {
     "name": "stdout",
     "output_type": "stream",
     "text": [
      "3680293220734633682 EconMatcher 41 45 \n",
      "3680293220734633682 EconMatcher 49 53 \n",
      "3680293220734633682 EconMatcher 54 56 \n",
      "3680293220734633682 EconMatcher 61 65 \n",
      "3680293220734633682 EconMatcher 673 677 \n",
      "3680293220734633682 EconMatcher 2987 2991 \n"
     ]
    }
   ],
   "source": [
    "for match_id,start,end in found_matches:\n",
    "    string_id = nlp.vocab.strings[match_id]\n",
    "    span = doc[start-5:end+5]\n",
    "    print(match_id,string_id,start,end,span.text)"
   ]
  },
  {
   "cell_type": "code",
   "execution_count": null,
   "id": "b48dad87",
   "metadata": {},
   "outputs": [],
   "source": []
  },
  {
   "cell_type": "code",
   "execution_count": null,
   "id": "fefda52d",
   "metadata": {},
   "outputs": [],
   "source": []
  }
 ],
 "metadata": {
  "kernelspec": {
   "display_name": "Python 3 (ipykernel)",
   "language": "python",
   "name": "python3"
  },
  "language_info": {
   "codemirror_mode": {
    "name": "ipython",
    "version": 3
   },
   "file_extension": ".py",
   "mimetype": "text/x-python",
   "name": "python",
   "nbconvert_exporter": "python",
   "pygments_lexer": "ipython3",
   "version": "3.9.7"
  }
 },
 "nbformat": 4,
 "nbformat_minor": 5
}
