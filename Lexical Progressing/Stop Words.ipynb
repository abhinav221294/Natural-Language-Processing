{
 "cells": [
  {
   "cell_type": "code",
   "execution_count": 1,
   "id": "8f41e1bf",
   "metadata": {},
   "outputs": [],
   "source": [
    "import spacy"
   ]
  },
  {
   "cell_type": "code",
   "execution_count": 2,
   "id": "e8141114",
   "metadata": {},
   "outputs": [],
   "source": [
    "nlp = spacy.load('en_core_web_sm')"
   ]
  },
  {
   "cell_type": "code",
   "execution_count": 3,
   "id": "ef23f44e",
   "metadata": {},
   "outputs": [
    {
     "name": "stdout",
     "output_type": "stream",
     "text": [
      "{'around', 'used', 'nor', 'whoever', 'indeed', '’re', 'all', 'bottom', 'becoming', 'which', 'nine', 'our', \"'ve\", 'their', 'really', 'move', 'about', 'full', 'the', 'are', 'next', 'for', 'give', 'he', 'less', 'eight', 'part', 'being', 'down', 'it', 'meanwhile', 'three', 'some', \"n't\", 'something', 'moreover', 'sometimes', \"'ll\", 'beside', 'thereafter', 'although', 'five', 'various', 'hers', 'under', 'front', 'him', 'mostly', 'nowhere', 'them', 'us', 'who', 'himself', 'by', 'became', 'than', \"'d\", 'whereupon', 'ever', 'my', 'how', 'still', 'using', 'neither', 'other', 'fifteen', 'done', '‘d', 'own', 'thereupon', 'though', 'whatever', 'may', 'therein', '’m', 'mine', 'whereas', 'sixty', 'whose', 'either', 'becomes', 'fifty', 'we', 'your', 'his', 'via', 'another', 'among', 'be', 'with', 'yourselves', 'whether', 'off', 'me', 'least', 'across', 'this', 'make', 'themselves', 'no', 'alone', 'hence', 'twelve', 'while', '‘ll', 'hundred', 'enough', 'much', 'what', 'side', '‘s', 'both', '’s', 'unless', 'wherein', 'such', 'anything', 'few', 'been', 'must', 'ourselves', 'too', 'myself', 'on', 'become', 'those', 'noone', 'beforehand', 'however', 'whole', 'these', 'serious', 'hereafter', 'if', 'between', 'please', 'everyone', 'regarding', 'someone', 'but', 'her', 'further', 'upon', 'within', 'above', 'was', 'might', 'into', 'per', 'below', 'one', 'keep', 'why', 'anywhere', 'many', 'put', 'amount', 'six', 'during', 'everywhere', 'afterwards', 'she', 'even', 'where', 'anyway', 'others', 'amongst', 'yourself', 'have', 'an', 'always', 'latterly', 're', \"'m\", 'would', '’ll', 'several', 'does', 'last', '’ve', 'since', 'only', 'behind', 'after', 'almost', 'is', 'hereby', 'seem', 'otherwise', 'never', 'eleven', 'somewhere', 'hereupon', 'were', 'ten', 'before', 'whenever', 'over', '’d', 'each', 'very', 'made', 'thereby', 'or', 'get', 'anyhow', 'now', 'whereafter', 'did', 'third', 'elsewhere', 'in', 'until', 'yours', 'quite', 'say', 'beyond', 'already', 'its', 'also', 'throughout', 'ours', 'most', 'am', 'herein', 'none', 'empty', 'cannot', 'a', 'then', 'see', 'doing', 'again', 'yet', 'show', 'every', \"'re\", 'and', 'at', 'sometime', 'back', 'you', 'up', 'will', 'to', 'well', 'same', 'whence', \"'s\", 'seems', 'do', 'has', 'somehow', 'everything', 'latter', 'therefore', 'not', 'whom', 'rather', 'except', 'first', 'go', 'any', 'seeming', 'because', 'there', 'thru', 'name', 'just', 'can', 'along', 'here', 'once', 'thus', 'had', 'two', 'top', 'as', 'against', 'toward', 'so', 'former', 'twenty', 'of', 'due', 'from', 'whereby', 'call', 'wherever', 'forty', 'whither', 'nevertheless', 'herself', 'when', 'thence', 'together', 'should', 'else', 'could', 'more', 'often', 'through', 'n‘t', 'towards', 'take', 'nobody', 'ca', 'namely', 'without', 'perhaps', 'i', 'anyone', '‘ve', 'itself', 'they', '‘m', 'n’t', 'nothing', 'that', 'four', 'seemed', 'onto', 'out', 'besides', '‘re', 'formerly'}\n"
     ]
    }
   ],
   "source": [
    "print(nlp.Defaults.stop_words)"
   ]
  },
  {
   "cell_type": "code",
   "execution_count": 4,
   "id": "c81a740b",
   "metadata": {},
   "outputs": [
    {
     "data": {
      "text/plain": [
       "326"
      ]
     },
     "execution_count": 4,
     "metadata": {},
     "output_type": "execute_result"
    }
   ],
   "source": [
    "len(nlp.Defaults.stop_words)"
   ]
  },
  {
   "cell_type": "code",
   "execution_count": 5,
   "id": "f1868a16",
   "metadata": {},
   "outputs": [
    {
     "data": {
      "text/plain": [
       "<spacy.lexeme.Lexeme at 0x2d333255d80>"
      ]
     },
     "execution_count": 5,
     "metadata": {},
     "output_type": "execute_result"
    }
   ],
   "source": [
    "nlp.vocab['is']"
   ]
  },
  {
   "cell_type": "code",
   "execution_count": 7,
   "id": "85f5ec06",
   "metadata": {},
   "outputs": [
    {
     "data": {
      "text/plain": [
       "True"
      ]
     },
     "execution_count": 7,
     "metadata": {},
     "output_type": "execute_result"
    }
   ],
   "source": [
    "nlp.vocab['is'].is_stop"
   ]
  },
  {
   "cell_type": "code",
   "execution_count": 6,
   "id": "627aab1b",
   "metadata": {},
   "outputs": [
    {
     "data": {
      "text/plain": [
       "False"
      ]
     },
     "execution_count": 6,
     "metadata": {},
     "output_type": "execute_result"
    }
   ],
   "source": [
    "nlp.vocab['mystery'].is_stop"
   ]
  },
  {
   "cell_type": "code",
   "execution_count": 8,
   "id": "b27bacdc",
   "metadata": {},
   "outputs": [],
   "source": [
    "nlp.Defaults.stop_words.add('btw')"
   ]
  },
  {
   "cell_type": "code",
   "execution_count": 9,
   "id": "568a9670",
   "metadata": {},
   "outputs": [],
   "source": [
    "nlp.vocab['btw'].is_stop = True"
   ]
  },
  {
   "cell_type": "code",
   "execution_count": 10,
   "id": "2440ad74",
   "metadata": {},
   "outputs": [
    {
     "data": {
      "text/plain": [
       "327"
      ]
     },
     "execution_count": 10,
     "metadata": {},
     "output_type": "execute_result"
    }
   ],
   "source": [
    "len(nlp.Defaults.stop_words)"
   ]
  },
  {
   "cell_type": "code",
   "execution_count": 11,
   "id": "9588c351",
   "metadata": {},
   "outputs": [
    {
     "data": {
      "text/plain": [
       "True"
      ]
     },
     "execution_count": 11,
     "metadata": {},
     "output_type": "execute_result"
    }
   ],
   "source": [
    "nlp.vocab['btw'].is_stop"
   ]
  },
  {
   "cell_type": "code",
   "execution_count": 12,
   "id": "39c80532",
   "metadata": {},
   "outputs": [],
   "source": [
    "nlp.Defaults.stop_words.remove('beyond')"
   ]
  },
  {
   "cell_type": "code",
   "execution_count": 13,
   "id": "d27dd4fb",
   "metadata": {},
   "outputs": [
    {
     "data": {
      "text/plain": [
       "False"
      ]
     },
     "execution_count": 13,
     "metadata": {},
     "output_type": "execute_result"
    }
   ],
   "source": [
    "nlp.vocab['beyond'].is_stop"
   ]
  },
  {
   "cell_type": "code",
   "execution_count": 14,
   "id": "17ccc489",
   "metadata": {},
   "outputs": [
    {
     "data": {
      "text/plain": [
       "False"
      ]
     },
     "execution_count": 14,
     "metadata": {},
     "output_type": "execute_result"
    }
   ],
   "source": [
    "nlp.vocab['beyond'].is_stop"
   ]
  },
  {
   "cell_type": "code",
   "execution_count": null,
   "id": "a59b0602",
   "metadata": {},
   "outputs": [],
   "source": []
  },
  {
   "cell_type": "code",
   "execution_count": null,
   "id": "f6a0dc44",
   "metadata": {},
   "outputs": [],
   "source": []
  },
  {
   "cell_type": "code",
   "execution_count": null,
   "id": "ab1811dd",
   "metadata": {},
   "outputs": [],
   "source": []
  },
  {
   "cell_type": "code",
   "execution_count": null,
   "id": "d893d411",
   "metadata": {},
   "outputs": [],
   "source": []
  },
  {
   "cell_type": "code",
   "execution_count": null,
   "id": "89f57c3f",
   "metadata": {},
   "outputs": [],
   "source": []
  },
  {
   "cell_type": "code",
   "execution_count": null,
   "id": "0e8f7205",
   "metadata": {},
   "outputs": [],
   "source": []
  }
 ],
 "metadata": {
  "kernelspec": {
   "display_name": "Python 3 (ipykernel)",
   "language": "python",
   "name": "python3"
  },
  "language_info": {
   "codemirror_mode": {
    "name": "ipython",
    "version": 3
   },
   "file_extension": ".py",
   "mimetype": "text/x-python",
   "name": "python",
   "nbconvert_exporter": "python",
   "pygments_lexer": "ipython3",
   "version": "3.9.7"
  }
 },
 "nbformat": 4,
 "nbformat_minor": 5
}
