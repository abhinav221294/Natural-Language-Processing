{
 "cells": [
  {
   "cell_type": "code",
   "execution_count": 38,
   "id": "4a998f60",
   "metadata": {},
   "outputs": [],
   "source": [
    "import spacy"
   ]
  },
  {
   "cell_type": "code",
   "execution_count": 1,
   "id": "6ad09a16",
   "metadata": {},
   "outputs": [
    {
     "name": "stdout",
     "output_type": "stream",
     "text": [
      "Collecting en-core-web-sm==3.4.1\n",
      "  Downloading https://github.com/explosion/spacy-models/releases/download/en_core_web_sm-3.4.1/en_core_web_sm-3.4.1-py3-none-any.whl (12.8 MB)\n",
      "     --------------------------------------- 12.8/12.8 MB 14.5 MB/s eta 0:00:00\n",
      "Requirement already satisfied: spacy<3.5.0,>=3.4.0 in c:\\users\\abhinav94\\anaconda3\\lib\\site-packages (from en-core-web-sm==3.4.1) (3.4.4)\n",
      "Requirement already satisfied: spacy-legacy<3.1.0,>=3.0.10 in c:\\users\\abhinav94\\anaconda3\\lib\\site-packages (from spacy<3.5.0,>=3.4.0->en-core-web-sm==3.4.1) (3.0.10)\n",
      "Requirement already satisfied: spacy-loggers<2.0.0,>=1.0.0 in c:\\users\\abhinav94\\anaconda3\\lib\\site-packages (from spacy<3.5.0,>=3.4.0->en-core-web-sm==3.4.1) (1.0.4)\n",
      "Requirement already satisfied: murmurhash<1.1.0,>=0.28.0 in c:\\users\\abhinav94\\anaconda3\\lib\\site-packages (from spacy<3.5.0,>=3.4.0->en-core-web-sm==3.4.1) (1.0.9)\n",
      "Requirement already satisfied: cymem<2.1.0,>=2.0.2 in c:\\users\\abhinav94\\anaconda3\\lib\\site-packages (from spacy<3.5.0,>=3.4.0->en-core-web-sm==3.4.1) (2.0.7)\n",
      "Requirement already satisfied: preshed<3.1.0,>=3.0.2 in c:\\users\\abhinav94\\anaconda3\\lib\\site-packages (from spacy<3.5.0,>=3.4.0->en-core-web-sm==3.4.1) (3.0.8)\n",
      "Requirement already satisfied: thinc<8.2.0,>=8.1.0 in c:\\users\\abhinav94\\anaconda3\\lib\\site-packages (from spacy<3.5.0,>=3.4.0->en-core-web-sm==3.4.1) (8.1.6)\n",
      "Requirement already satisfied: wasabi<1.1.0,>=0.9.1 in c:\\users\\abhinav94\\anaconda3\\lib\\site-packages (from spacy<3.5.0,>=3.4.0->en-core-web-sm==3.4.1) (0.10.1)\n",
      "Requirement already satisfied: srsly<3.0.0,>=2.4.3 in c:\\users\\abhinav94\\anaconda3\\lib\\site-packages (from spacy<3.5.0,>=3.4.0->en-core-web-sm==3.4.1) (2.4.5)\n",
      "Requirement already satisfied: catalogue<2.1.0,>=2.0.6 in c:\\users\\abhinav94\\anaconda3\\lib\\site-packages (from spacy<3.5.0,>=3.4.0->en-core-web-sm==3.4.1) (2.0.8)\n",
      "Requirement already satisfied: typer<0.8.0,>=0.3.0 in c:\\users\\abhinav94\\anaconda3\\lib\\site-packages (from spacy<3.5.0,>=3.4.0->en-core-web-sm==3.4.1) (0.7.0)\n",
      "Requirement already satisfied: pathy>=0.3.5 in c:\\users\\abhinav94\\anaconda3\\lib\\site-packages (from spacy<3.5.0,>=3.4.0->en-core-web-sm==3.4.1) (0.10.1)\n",
      "Requirement already satisfied: smart-open<7.0.0,>=5.2.1 in c:\\users\\abhinav94\\anaconda3\\lib\\site-packages (from spacy<3.5.0,>=3.4.0->en-core-web-sm==3.4.1) (6.3.0)\n",
      "Requirement already satisfied: tqdm<5.0.0,>=4.38.0 in c:\\users\\abhinav94\\anaconda3\\lib\\site-packages (from spacy<3.5.0,>=3.4.0->en-core-web-sm==3.4.1) (4.64.1)\n",
      "Requirement already satisfied: numpy>=1.15.0 in c:\\users\\abhinav94\\anaconda3\\lib\\site-packages (from spacy<3.5.0,>=3.4.0->en-core-web-sm==3.4.1) (1.23.5)\n",
      "Requirement already satisfied: requests<3.0.0,>=2.13.0 in c:\\users\\abhinav94\\anaconda3\\lib\\site-packages (from spacy<3.5.0,>=3.4.0->en-core-web-sm==3.4.1) (2.28.1)\n",
      "Requirement already satisfied: pydantic!=1.8,!=1.8.1,<1.11.0,>=1.7.4 in c:\\users\\abhinav94\\anaconda3\\lib\\site-packages (from spacy<3.5.0,>=3.4.0->en-core-web-sm==3.4.1) (1.10.2)\n",
      "Requirement already satisfied: jinja2 in c:\\users\\abhinav94\\anaconda3\\lib\\site-packages (from spacy<3.5.0,>=3.4.0->en-core-web-sm==3.4.1) (3.0.1)\n",
      "Requirement already satisfied: setuptools in c:\\users\\abhinav94\\anaconda3\\lib\\site-packages (from spacy<3.5.0,>=3.4.0->en-core-web-sm==3.4.1) (65.5.0)\n",
      "Requirement already satisfied: packaging>=20.0 in c:\\users\\abhinav94\\anaconda3\\lib\\site-packages (from spacy<3.5.0,>=3.4.0->en-core-web-sm==3.4.1) (22.0)\n",
      "Requirement already satisfied: langcodes<4.0.0,>=3.2.0 in c:\\users\\abhinav94\\anaconda3\\lib\\site-packages (from spacy<3.5.0,>=3.4.0->en-core-web-sm==3.4.1) (3.3.0)\n",
      "Requirement already satisfied: typing-extensions>=4.1.0 in c:\\users\\abhinav94\\anaconda3\\lib\\site-packages (from pydantic!=1.8,!=1.8.1,<1.11.0,>=1.7.4->spacy<3.5.0,>=3.4.0->en-core-web-sm==3.4.1) (4.4.0)\n",
      "Requirement already satisfied: charset-normalizer<3,>=2 in c:\\users\\abhinav94\\anaconda3\\lib\\site-packages (from requests<3.0.0,>=2.13.0->spacy<3.5.0,>=3.4.0->en-core-web-sm==3.4.1) (2.0.4)\n",
      "Requirement already satisfied: idna<4,>=2.5 in c:\\users\\abhinav94\\anaconda3\\lib\\site-packages (from requests<3.0.0,>=2.13.0->spacy<3.5.0,>=3.4.0->en-core-web-sm==3.4.1) (3.4)\n",
      "Requirement already satisfied: urllib3<1.27,>=1.21.1 in c:\\users\\abhinav94\\anaconda3\\lib\\site-packages (from requests<3.0.0,>=2.13.0->spacy<3.5.0,>=3.4.0->en-core-web-sm==3.4.1) (1.26.13)\n",
      "Requirement already satisfied: certifi>=2017.4.17 in c:\\users\\abhinav94\\anaconda3\\lib\\site-packages (from requests<3.0.0,>=2.13.0->spacy<3.5.0,>=3.4.0->en-core-web-sm==3.4.1) (2022.12.7)\n",
      "Requirement already satisfied: blis<0.8.0,>=0.7.8 in c:\\users\\abhinav94\\anaconda3\\lib\\site-packages (from thinc<8.2.0,>=8.1.0->spacy<3.5.0,>=3.4.0->en-core-web-sm==3.4.1) (0.7.9)\n",
      "Requirement already satisfied: confection<1.0.0,>=0.0.1 in c:\\users\\abhinav94\\anaconda3\\lib\\site-packages (from thinc<8.2.0,>=8.1.0->spacy<3.5.0,>=3.4.0->en-core-web-sm==3.4.1) (0.0.3)\n",
      "Requirement already satisfied: colorama in c:\\users\\abhinav94\\anaconda3\\lib\\site-packages (from tqdm<5.0.0,>=4.38.0->spacy<3.5.0,>=3.4.0->en-core-web-sm==3.4.1) (0.4.5)\n",
      "Requirement already satisfied: click<9.0.0,>=7.1.1 in c:\\users\\abhinav94\\anaconda3\\lib\\site-packages (from typer<0.8.0,>=0.3.0->spacy<3.5.0,>=3.4.0->en-core-web-sm==3.4.1) (8.0.4)\n",
      "Requirement already satisfied: MarkupSafe>=2.0 in c:\\users\\abhinav94\\anaconda3\\lib\\site-packages (from jinja2->spacy<3.5.0,>=3.4.0->en-core-web-sm==3.4.1) (2.0.1)\n",
      "[!] As of spaCy v3.0, shortcuts like 'en' are deprecated. Please use the full\n",
      "pipeline package name 'en_core_web_sm' instead.\n",
      "[+] Download and installation successful\n",
      "You can now load the package via spacy.load('en_core_web_sm')\n"
     ]
    }
   ],
   "source": [
    "#!python -m spacy download en_core_web_lg\n",
    "# !python -m spacy download en_core_web_md\n",
    "#!python -m spacy download en"
   ]
  },
  {
   "cell_type": "code",
   "execution_count": null,
   "id": "7369f0f5",
   "metadata": {},
   "outputs": [],
   "source": []
  },
  {
   "cell_type": "code",
   "execution_count": 40,
   "id": "d93b30b6",
   "metadata": {},
   "outputs": [],
   "source": [
    "nlp = spacy.load('en_core_web_lg')"
   ]
  },
  {
   "cell_type": "code",
   "execution_count": 41,
   "id": "eb5fab59",
   "metadata": {},
   "outputs": [
    {
     "data": {
      "text/plain": [
       "array([  1.2746  ,   0.46242 ,  -1.1829  ,  -5.2661  ,  -2.7128  ,\n",
       "         1.8521  ,  -0.94273 ,   2.1865  ,   6.503   ,   0.6704  ,\n",
       "         1.5361  ,   2.5992  ,  -0.36233 ,   4.3965  ,  -6.5644  ,\n",
       "         1.6141  ,  -1.2897  ,   2.1184  ,  -0.63654 ,  -3.4572  ,\n",
       "        -4.3771  ,   4.2074  ,  -3.6411  ,  -0.97214 ,   1.3253  ,\n",
       "        -2.3125  ,  -3.6531  ,  -2.8398  ,   2.7913  ,  -1.53    ,\n",
       "        -2.9984  ,  -2.6357  ,   0.50615 ,  -2.6925  ,   4.3401  ,\n",
       "        -5.6017  ,   0.045691,   4.3832  ,  -0.19535 ,  -1.0751  ,\n",
       "         0.32172 ,   2.4395  ,   4.6638  ,   3.4471  ,  -3.3847  ,\n",
       "        -1.8238  ,   0.70212 ,   0.58557 ,   5.0032  ,  -3.1072  ,\n",
       "         1.2364  ,   7.4595  ,   0.057368,   1.0111  ,  -1.0827  ,\n",
       "         0.69113 ,   2.8009  ,  -3.4383  ,  -1.0599  ,  -2.2627  ,\n",
       "        -5.149   ,  -5.0636  ,   3.1405  ,   1.0793  ,  -0.72892 ,\n",
       "        -3.9939  ,  -0.69551 ,  -0.55767 ,   3.2555  ,  -2.9449  ,\n",
       "         4.7114  ,   1.6388  ,   1.3828  ,   1.4255  ,  -3.2334  ,\n",
       "        -2.274   ,  -1.8136  ,   2.2966  ,   2.5462  ,   1.0722  ,\n",
       "        -0.73447 ,   1.2148  ,  -0.9196  ,  -0.065012,   2.088   ,\n",
       "         0.57002 ,   3.5746  ,   1.7192  ,  -8.335   ,   0.71079 ,\n",
       "         0.91314 ,  -5.0107  ,   1.899   ,  -4.4658  ,   4.7993  ,\n",
       "        -0.39899 ,  -2.673   ,  -2.9354  ,   4.304   ,   1.4336  ,\n",
       "         3.7121  ,   0.34882 ,   4.6512  ,  -4.5731  ,  -4.5665  ,\n",
       "         1.5988  ,  -0.50383 ,   0.95857 ,   0.68728 ,  -0.39976 ,\n",
       "        -3.1922  ,   4.4363  ,  -0.69479 ,  -1.9528  ,   4.9376  ,\n",
       "         2.7259  ,   2.2485  ,   5.5734  ,   2.5842  ,   4.7836  ,\n",
       "        -1.0274  ,   2.2703  ,  -2.0696  ,  -1.0642  ,  -4.932   ,\n",
       "        -2.274   ,   4.1409  ,   0.73313 ,   2.1889  ,  -0.098888,\n",
       "         1.6472  ,  -2.3985  ,   2.5911  ,   3.6026  ,   1.885   ,\n",
       "         5.7822  ,  -1.4481  ,   1.8914  , -10.044   ,  -5.7452  ,\n",
       "        -4.3224  ,  -3.854   ,   2.3084  ,  -0.84018 ,  -0.40526 ,\n",
       "         4.7741  ,  -2.3271  ,   7.064   ,   0.95753 ,  -2.356   ,\n",
       "         0.83953 ,   0.40004 ,   0.33743 ,   0.8376  ,   3.9285  ,\n",
       "         0.05955 ,   2.4422  ,   4.3492  ,   3.9861  ,   2.1043  ,\n",
       "        -1.0197  ,  -0.61752 ,  -0.42999 ,  -0.1014  ,  -5.9571  ,\n",
       "        -0.53818 ,  -1.7797  ,   1.7446  ,   2.3934  ,  -0.50263 ,\n",
       "        -1.6222  ,  -0.37372 ,  -6.8938  ,   0.55018 ,  -2.267   ,\n",
       "         0.64912 ,   3.1525  ,  -2.2541  ,  -4.0384  ,   3.206   ,\n",
       "         0.14962 ,  -2.6662  ,   0.18167 ,   5.0028  ,   2.1521  ,\n",
       "         0.92419 ,   5.4163  ,  -2.2408  ,   1.6585  ,  -5.1625  ,\n",
       "         5.029   ,   0.1026  ,  -0.44542 ,   2.0557  ,   3.7778  ,\n",
       "         3.8679  ,  -2.7135  ,   5.3242  ,  -3.2916  ,   5.6421  ,\n",
       "         5.0466  ,   1.6072  ,  -1.3206  ,   4.2044  ,  -0.33793 ,\n",
       "        -3.1139  ,   2.8841  ,  -3.1565  ,  -2.9832  ,  -0.23235 ,\n",
       "         2.3259  ,   3.5477  ,  -2.1299  ,  -1.8344  ,   2.7271  ,\n",
       "         1.5568  ,   5.6865  ,   0.9412  ,  -2.6412  ,  -5.3254  ,\n",
       "         1.3494  ,  -0.47159 ,   2.4979  ,  -1.5568  ,  -1.6911  ,\n",
       "        -2.1842  ,   6.0319  ,   0.022573,   2.3824  ,  -1.1002  ,\n",
       "         0.90216 ,  -1.9113  ,   1.5527  ,   5.7413  ,  -3.1956  ,\n",
       "         0.68655 ,  -1.6068  ,   1.7404  ,  -3.2142  ,   6.4783  ,\n",
       "         1.7548  ,  -2.9795  ,   0.97631 ,  -0.018354,  -0.6379  ,\n",
       "         0.80559 ,   3.1923  ,   3.3335  ,   4.3068  ,  -1.0819  ,\n",
       "        -1.3839  ,  -4.7626  ,  -4.6637  ,  -1.2201  ,  -3.2741  ,\n",
       "         1.5204  ,   0.78119 ,   8.7339  ,   1.6009  ,  -0.79332 ,\n",
       "         5.8416  ,  -1.485   ,   1.5978  ,   2.9746  ,  -0.30759 ,\n",
       "        -1.8023  ,  -4.8344  ,   1.2817  ,  -2.5469  ,   2.6517  ,\n",
       "         1.4881  ,   2.1952  ,  -0.12652 ,   1.2223  ,   0.44763 ,\n",
       "        -3.1445  ,  -2.2051  ,  -4.1785  ,  -3.6539  ,   5.1929  ,\n",
       "         0.78457 ,  -1.2312  ,   5.5624  ,  -1.8462  ,   6.1262  ,\n",
       "        -1.6653  ,  -2.7557  ,  -0.066465,  -3.6362  ,   5.2005  ,\n",
       "        -1.2865  ,   2.8855  ,   6.1219  ,   1.7824  ,   1.4264  ,\n",
       "        10.628   ,  -0.36028 ,   1.9268  ,  -7.835   ,   0.57865 ],\n",
       "      dtype=float32)"
      ]
     },
     "execution_count": 41,
     "metadata": {},
     "output_type": "execute_result"
    }
   ],
   "source": [
    "nlp(u'lion').vector"
   ]
  },
  {
   "cell_type": "code",
   "execution_count": 42,
   "id": "e0bd7cc6",
   "metadata": {},
   "outputs": [
    {
     "data": {
      "text/plain": [
       "(300,)"
      ]
     },
     "execution_count": 42,
     "metadata": {},
     "output_type": "execute_result"
    }
   ],
   "source": [
    "nlp(u'The quick brown fox jumped').vector.shape"
   ]
  },
  {
   "cell_type": "code",
   "execution_count": 43,
   "id": "620a4445",
   "metadata": {},
   "outputs": [
    {
     "data": {
      "text/plain": [
       "(300,)"
      ]
     },
     "execution_count": 43,
     "metadata": {},
     "output_type": "execute_result"
    }
   ],
   "source": [
    "nlp(u'fox').vector.shape"
   ]
  },
  {
   "cell_type": "code",
   "execution_count": 44,
   "id": "9751c00a",
   "metadata": {},
   "outputs": [],
   "source": [
    "tokens = nlp(u'lion cat pet')"
   ]
  },
  {
   "cell_type": "code",
   "execution_count": 45,
   "id": "a80f5a44",
   "metadata": {},
   "outputs": [
    {
     "name": "stdout",
     "output_type": "stream",
     "text": [
      "lion lion 1.0\n",
      "lion cat 0.3854507803916931\n",
      "lion pet 0.20031584799289703\n",
      "cat lion 0.3854507803916931\n",
      "cat cat 1.0\n",
      "cat pet 0.732966423034668\n",
      "pet lion 0.20031584799289703\n",
      "pet cat 0.732966423034668\n",
      "pet pet 1.0\n"
     ]
    }
   ],
   "source": [
    "for token1 in tokens:\n",
    "    for token2 in tokens:\n",
    "        print(token1.text,token2.text,token1.similarity(token2))"
   ]
  },
  {
   "cell_type": "code",
   "execution_count": 46,
   "id": "13496df1",
   "metadata": {},
   "outputs": [
    {
     "data": {
      "text/plain": [
       "514157"
      ]
     },
     "execution_count": 46,
     "metadata": {},
     "output_type": "execute_result"
    }
   ],
   "source": [
    "len(nlp.vocab.vectors)"
   ]
  },
  {
   "cell_type": "code",
   "execution_count": 47,
   "id": "c34d271c",
   "metadata": {},
   "outputs": [
    {
     "data": {
      "text/plain": [
       "(514157, 300)"
      ]
     },
     "execution_count": 47,
     "metadata": {},
     "output_type": "execute_result"
    }
   ],
   "source": [
    "nlp.vocab.vectors.shape"
   ]
  },
  {
   "cell_type": "code",
   "execution_count": 48,
   "id": "e9cbc006",
   "metadata": {},
   "outputs": [],
   "source": [
    "tokens = nlp(u\"dog cat nargle\")"
   ]
  },
  {
   "cell_type": "code",
   "execution_count": 49,
   "id": "933254af",
   "metadata": {},
   "outputs": [
    {
     "name": "stdout",
     "output_type": "stream",
     "text": [
      "dog True 75.254234 False\n",
      "cat True 63.188496 False\n",
      "nargle False 0.0 True\n"
     ]
    }
   ],
   "source": [
    "for token in tokens:\n",
    "    print(token.text,token.has_vector,token.vector_norm,token.is_oov)"
   ]
  },
  {
   "cell_type": "code",
   "execution_count": 50,
   "id": "a96564d0",
   "metadata": {},
   "outputs": [],
   "source": [
    "from scipy import spatial"
   ]
  },
  {
   "cell_type": "code",
   "execution_count": 51,
   "id": "0f8a6ac5",
   "metadata": {},
   "outputs": [
    {
     "data": {
      "text/plain": [
       "<function __main__.<lambda>(vec1, vec2)>"
      ]
     },
     "execution_count": 51,
     "metadata": {},
     "output_type": "execute_result"
    }
   ],
   "source": [
    "consine_similarity = lambda vec1,vec2: 1 - spatial.distance.cosine(vec1,vec2)\n",
    "consine_similarity"
   ]
  },
  {
   "cell_type": "code",
   "execution_count": 52,
   "id": "3517ce7a",
   "metadata": {},
   "outputs": [],
   "source": [
    "king = nlp.vocab['king'].vector\n",
    "man = nlp.vocab['man'].vector\n",
    "woman = nlp.vocab['woman'].vector"
   ]
  },
  {
   "cell_type": "code",
   "execution_count": 53,
   "id": "b5a64f30",
   "metadata": {},
   "outputs": [],
   "source": [
    "new_vector = king-man+woman"
   ]
  },
  {
   "cell_type": "code",
   "execution_count": 57,
   "id": "00b3e113",
   "metadata": {},
   "outputs": [
    {
     "data": {
      "text/plain": [
       "array([ 1.9392200e+00, -2.3115001e+00, -1.3863000e+00, -1.9133999e+00,\n",
       "        4.1749401e+00, -1.5401300e+00, -3.8272700e+00,  5.0291996e+00,\n",
       "       -2.4454002e+00,  2.0851002e+00,  1.6605499e+01, -1.3788500e+00,\n",
       "       -5.7085404e+00,  2.7210798e+00,  6.6530025e-01,  3.4804001e+00,\n",
       "        1.0497000e+00, -1.1281996e+00, -6.6435003e-01, -3.5216696e+00,\n",
       "       -8.0680294e+00, -3.8434997e+00, -4.4948001e+00,  8.7943001e+00,\n",
       "       -6.3383985e-01, -4.8098001e+00, -1.2955203e+00, -6.1078286e-01,\n",
       "        4.1610003e-01, -4.1724200e+00,  3.7961500e+00, -5.5350199e+00,\n",
       "       -1.4319000e+00, -4.7633996e+00,  3.7440000e+00, -1.2749730e+00,\n",
       "        3.1816001e+00,  1.0476298e+00,  1.0784001e+00, -3.0779200e+00,\n",
       "       -1.2711000e+00, -3.6251001e+00, -2.7258501e+00,  4.7676001e+00,\n",
       "        1.5000498e+00,  2.5363998e+00,  9.6959996e-01,  2.8748999e+00,\n",
       "        2.6771998e+00,  1.8741999e+00, -5.3535199e+00,  3.7624002e+00,\n",
       "       -5.4443008e-01, -2.8594000e+00, -2.3983500e+00,  7.5615001e-01,\n",
       "       -1.6862996e+00, -6.4709001e+00,  4.6223898e+00,  4.8498998e+00,\n",
       "       -3.0052018e-01, -3.8868999e+00,  6.3224001e+00, -2.3664501e+00,\n",
       "        2.2703300e+00,  3.3231003e+00, -6.1042299e+00, -5.0201001e+00,\n",
       "        9.5792999e+00,  3.2759299e+00, -2.2653799e+00,  2.1234000e+00,\n",
       "       -4.9017401e+00, -1.7752002e+00, -5.6193900e+00,  4.1918001e+00,\n",
       "       -7.4270792e+00,  4.9396996e+00, -2.4484301e+00,  4.2602000e+00,\n",
       "       -6.5094099e+00,  2.1665001e-01, -4.7990103e+00,  2.1538997e+00,\n",
       "        5.7447004e-01,  4.8984995e+00, -2.2124000e+00,  6.1560011e-01,\n",
       "       -2.9963100e+00, -2.3548698e+00,  3.4073899e+00,  3.2515998e+00,\n",
       "        5.9930038e-01, -4.7820997e+00, -3.5769701e+00,  1.4498850e+00,\n",
       "        3.3627901e+00,  1.6592300e+00, -4.9630995e+00,  3.1173401e+00,\n",
       "       -2.4839001e+00,  6.2902503e+00,  4.9243503e+00,  2.9040699e+00,\n",
       "        4.3234000e+00,  6.6861000e+00,  5.3109980e-01, -2.5485201e+00,\n",
       "        8.3090991e-02, -5.3160200e+00, -1.0756803e+00,  7.8729000e+00,\n",
       "       -4.3389010e-01, -5.2601500e+00,  1.3486199e+01,  2.3806996e+00,\n",
       "       -3.7742000e+00, -1.1628900e+00, -6.5094995e-01, -5.2306204e+00,\n",
       "        3.5393040e+00, -2.8087997e+00,  6.3808994e+00, -4.2631006e+00,\n",
       "       -1.3755180e+00, -1.1459400e+01,  6.9519949e-01, -6.7654104e+00,\n",
       "       -3.7590027e-01,  1.0349000e+00, -7.7567997e+00, -3.3424997e-01,\n",
       "       -2.4899971e-01,  2.7706003e-01, -2.1068301e+00, -4.0296001e+00,\n",
       "       -4.1249003e+00,  9.2911994e-01, -1.9882005e-01, -4.7922001e+00,\n",
       "       -8.0993996e+00,  9.8409986e-01, -2.5156000e+00,  3.9651000e+00,\n",
       "        3.9823101e+00, -1.7520022e-01, -8.5326996e+00,  2.7765503e+00,\n",
       "        5.6943102e+00,  5.4154899e-02, -2.0930729e+00,  3.4601800e+00,\n",
       "        4.3996003e-01,  7.6155643e+00,  4.4245200e+00,  6.7000389e-03,\n",
       "       -2.9654300e+00, -1.4637101e+00, -2.6764998e+00, -4.1227999e+00,\n",
       "       -4.5114298e+00, -7.5515008e+00,  9.1299772e-02, -2.2665730e+00,\n",
       "       -3.1620002e+00, -9.3991003e+00, -8.2884207e+00, -2.1912401e+00,\n",
       "       -2.3130891e+00,  2.6930994e-01,  5.4695005e+00, -4.9580050e-01,\n",
       "       -3.7524998e+00,  1.1632795e+00,  1.5505002e+00, -1.9376998e+00,\n",
       "       -5.0283003e-01, -9.6462005e-01, -1.9391000e+00, -3.0476999e+00,\n",
       "        3.4930000e+00, -8.9099646e-02,  7.2140002e-01, -2.5389199e+00,\n",
       "        4.7689600e+00,  6.6139498e+00, -6.9038987e-01,  1.4298400e+00,\n",
       "        1.9550014e-01,  2.9179108e+00,  1.2519000e+00, -9.3613863e+00,\n",
       "       -5.9127002e+00,  2.1136999e+00,  4.5472403e+00, -1.8481016e-02,\n",
       "       -4.4704199e+00,  1.7130041e-01,  1.0735900e+00,  6.3000903e+00,\n",
       "        6.4400005e-01, -1.0550988e-01, -4.1835999e+00,  4.4136992e-01,\n",
       "       -3.9800000e-01, -4.4532104e+00,  1.6721599e+00,  7.3224001e+00,\n",
       "       -1.0846002e+00,  5.5222998e+00,  3.7199998e-01,  1.2874600e+00,\n",
       "        5.5377903e+00,  6.4842997e+00, -4.4014025e-01,  1.9180198e+00,\n",
       "        5.9175801e+00, -3.3658504e+00,  2.3565402e+00, -6.5751324e+00,\n",
       "       -5.7356200e+00,  3.2288995e+00, -5.7550025e-01,  8.1138000e+00,\n",
       "       -5.8756006e-01, -1.3780003e+00,  5.0790000e-01,  3.6003995e+00,\n",
       "       -2.0974400e+00,  5.4249001e+00,  1.0930002e-01,  1.1624999e+00,\n",
       "       -2.8050101e+00,  6.6023998e+00,  4.0592999e+00,  6.4873004e+00,\n",
       "       -1.6781001e+00, -4.1176033e-01, -4.6373997e+00,  5.2927999e+00,\n",
       "        3.6361998e-01,  1.0570800e+01, -3.6768999e+00, -2.2553000e+00,\n",
       "        1.7148998e+00, -8.5960031e-01,  6.8120003e-01,  4.2570729e+00,\n",
       "        6.0465002e+00,  6.4090991e-01,  2.3524004e-01, -5.4971004e+00,\n",
       "       -7.4195600e+00, -2.9869998e-01,  8.8177013e-01, -8.6038990e+00,\n",
       "        4.4706001e+00,  2.3107004e+00, -5.6815004e-01,  2.5742202e+00,\n",
       "        7.3649991e-01, -1.0553801e+00,  4.1707301e-01,  3.6274299e-01,\n",
       "        2.8873711e+00, -1.9827211e+00, -1.5422699e+00,  1.1284900e+00,\n",
       "       -1.1235000e+01,  5.4754000e+00,  8.1189990e-01, -1.0999300e+00,\n",
       "       -5.9274001e+00, -7.1076298e-01, -1.1008101e+00, -2.2453001e+00,\n",
       "        3.0368700e+00, -3.7698898e+00, -3.7548003e+00,  1.2790999e+00,\n",
       "        9.7320008e-01, -4.2096000e+00,  5.5269995e+00,  1.8465997e+00,\n",
       "        4.0220995e+00,  1.0505199e+00,  2.1808698e+00,  4.7750001e+00,\n",
       "       -3.8340001e+00, -5.8677998e+00,  1.9839001e+00,  2.9614999e+00,\n",
       "       -4.1291223e+00, -1.9792000e+00,  1.5635000e+00,  4.0887995e+00,\n",
       "       -1.3429599e+00, -6.4279995e+00, -7.1104698e+00,  2.1612999e+00],\n",
       "      dtype=float32)"
      ]
     },
     "execution_count": 57,
     "metadata": {},
     "output_type": "execute_result"
    }
   ],
   "source": [
    "new_vector"
   ]
  },
  {
   "cell_type": "code",
   "execution_count": 54,
   "id": "7a798c8d",
   "metadata": {},
   "outputs": [],
   "source": [
    "computed_similarities = []\n",
    "\n",
    "for word in nlp.vocab:\n",
    "    if word.has_vector:\n",
    "        if word.is_lower:\n",
    "            if word.is_alpha:\n",
    "                similarity = consine_similarity(new_vector,word.vector)\n",
    "                computed_similarities.append((word,similarity))"
   ]
  },
  {
   "cell_type": "code",
   "execution_count": 55,
   "id": "4ff03c60",
   "metadata": {},
   "outputs": [],
   "source": [
    "computed_similarities = sorted(computed_similarities,key=lambda item:-item[1])"
   ]
  },
  {
   "cell_type": "code",
   "execution_count": 56,
   "id": "7506d09d",
   "metadata": {},
   "outputs": [
    {
     "name": "stdout",
     "output_type": "stream",
     "text": [
      "['king', 'and', 'that', 'where', 'she', 'they', 'woman', 'there', 'should', 'these']\n"
     ]
    }
   ],
   "source": [
    "print([t[0].text for t in computed_similarities[:10]])"
   ]
  },
  {
   "cell_type": "code",
   "execution_count": null,
   "id": "8c0500cd",
   "metadata": {},
   "outputs": [],
   "source": []
  }
 ],
 "metadata": {
  "kernelspec": {
   "display_name": "Python 3 (ipykernel)",
   "language": "python",
   "name": "python3"
  },
  "language_info": {
   "codemirror_mode": {
    "name": "ipython",
    "version": 3
   },
   "file_extension": ".py",
   "mimetype": "text/x-python",
   "name": "python",
   "nbconvert_exporter": "python",
   "pygments_lexer": "ipython3",
   "version": "3.9.7"
  }
 },
 "nbformat": 4,
 "nbformat_minor": 5
}
